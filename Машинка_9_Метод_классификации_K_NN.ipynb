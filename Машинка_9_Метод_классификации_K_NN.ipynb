{
 "cells": [
  {
   "cell_type": "code",
   "execution_count": 224,
   "id": "648a90ab",
   "metadata": {},
   "outputs": [],
   "source": [
    "import numpy as np\n",
    "import matplotlib.pyplot as plt\n",
    "from sklearn.datasets import load_digits\n",
    "from sklearn.neighbors import KNeighborsClassifier"
   ]
  },
  {
   "cell_type": "code",
   "execution_count": 225,
   "id": "4eb1a282",
   "metadata": {},
   "outputs": [
    {
     "data": {
      "image/png": "[encoded data removed]",
      "text/plain": [
       "<Figure size 432x288 with 1 Axes>"
      ]
     },
     "metadata": {
      "needs_background": "light"
     },
     "output_type": "display_data"
    },
    {
     "name": "stdout",
     "output_type": "stream",
     "text": [
      "6\n"
     ]
    }
   ],
   "source": [
    "digits = load_digits()\n",
    "\n",
    "digit = 6\n",
    "\n",
    "plt.imshow(digits.images[digit])\n",
    "plt.show()\n",
    "print(digits.target[digit])"
   ]
  },
  {
   "cell_type": "code",
   "execution_count": 226,
   "id": "28fd7c25",
   "metadata": {},
   "outputs": [],
   "source": [
    "#Тренировочная выборка\n",
    "trainingDataStartIndex = 0\n",
    "trainingDataEndIndex = 1200\n",
    "\n",
    "xTraining = digits.data[trainingDataStartIndex:trainingDataEndIndex]\n",
    "yTraining = digits.target[trainingDataStartIndex:trainingDataEndIndex]"
   ]
  },
  {
   "cell_type": "code",
   "execution_count": 227,
   "id": "bcee15e7",
   "metadata": {},
   "outputs": [],
   "source": [
    "#Тестовая выборка\n",
    "testDataStartIndex = 1200\n",
    "testDataEndIndex = 1500\n",
    "\n",
    "xTest = digits.data[testDataStartIndex:testDataEndIndex]\n",
    "yTest = digits.target[testDataStartIndex:testDataEndIndex]"
   ]
  },
  {
   "cell_type": "code",
   "execution_count": 228,
   "id": "e9cd6811",
   "metadata": {},
   "outputs": [],
   "source": [
    "#Число ближайших \"соседей\"\n",
    "nearestNeighbors = 1"
   ]
  },
  {
   "cell_type": "code",
   "execution_count": 229,
   "id": "6a7bd08d",
   "metadata": {},
   "outputs": [
    {
     "name": "stdout",
     "output_type": "stream",
     "text": [
      "[7 7 3 5 1 0 0 2 2 7 8 2 0 1 2 6 3 3 7 3 3 4 6 6 6 4 9 1 5 0 9 5 2 8 2 0 0\n",
      " 1 7 6 3 2 1 7 4 6 3 1 3 9 1 7 6 8 4 3 1 4 0 5 3 6 9 6 1 7 5 4 4 7 2 8 2 2\n",
      " 5 7 9 5 4 8 8 4 9 0 8 9 8 0 1 2 3 4 5 6 7 8 9 0 1 2 3 4 5 6 7 8 9 0 1 2 3\n",
      " 4 5 6 7 8 9 0 9 5 5 6 5 0 9 8 9 8 4 1 7 7 3 5 1 0 0 2 2 7 8 2 0 1 2 6 3 3\n",
      " 7 3 3 4 6 6 6 4 9 1 5 0 9 6 2 8 2 0 0 1 7 6 3 2 1 7 4 6 3 1 3 9 1 7 6 8 4\n",
      " 3 1 4 0 5 3 6 9 6 1 7 5 4 4 7 2 8 2 2 5 7 9 5 4 1 8 4 9 0 8 0 1 2 3 4 5 6\n",
      " 7 8 9 0 1 2 3 4 5 6 7 8 9 0 1 2 3 4 5 6 7 8 9 0 9 5 5 6 5 0 9 8 9 8 4 1 7\n",
      " 7 3 5 1 0 0 2 2 7 8 2 0 1 2 6 3 3 7 3 3 4 6 6 6 4 9 1 5 0 9 5 2 8 2 0 0 1\n",
      " 7 6 3 2]\n",
      "0.9933333333333333\n"
     ]
    }
   ],
   "source": [
    "neigh = KNeighborsClassifier(nearestNeighbors)\n",
    "neigh.fit(xTraining, yTraining)\n",
    "\n",
    "print(neigh.predict(xTest))\n",
    "print(neigh.score(xTest, yTest))"
   ]
  },
  {
   "cell_type": "code",
   "execution_count": null,
   "id": "c09a9564",
   "metadata": {},
   "outputs": [],
   "source": []
  }
 ],
 "metadata": {
  "kernelspec": {
   "display_name": "Python 3 (ipykernel)",
   "language": "python",
   "name": "python3"
  },
  "language_info": {
   "codemirror_mode": {
    "name": "ipython",
    "version": 3
   },
   "file_extension": ".py",
   "mimetype": "text/x-python",
   "name": "python",
   "nbconvert_exporter": "python",
   "pygments_lexer": "ipython3",
   "version": "3.9.7"
  }
 },
 "nbformat": 4,
 "nbformat_minor": 5
}
