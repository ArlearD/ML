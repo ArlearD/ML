{
 "cells": [
  {
   "cell_type": "code",
   "execution_count": 263,
   "id": "febcf667",
   "metadata": {},
   "outputs": [],
   "source": [
    "from sklearn import datasets\n",
    "from sklearn.naive_bayes import GaussianNB\n",
    "from sklearn.utils import Bunch\n",
    "import random"
   ]
  },
  {
   "cell_type": "code",
   "execution_count": 266,
   "id": "c5541da1",
   "metadata": {},
   "outputs": [
    {
     "name": "stdout",
     "output_type": "stream",
     "text": [
      "1000\n",
      "1000\n"
     ]
    }
   ],
   "source": [
    "#Заполнение датасета\n",
    "dataset = Bunch()\n",
    "dataset.data = []\n",
    "dataset.target = []\n",
    "\n",
    "#Заполнение бананами\n",
    "for index in range(500):\n",
    "    banana = []\n",
    "    banana.append(random.choices([1, 0], weights=[400, 100])[0]) #Длинный\n",
    "    banana.append(random.choices([1, 0], weights=[350, 150])[0]) #Сладкий\n",
    "    banana.append(random.choices([1, 0], weights=[450, 50])[0])  #Желтый\n",
    "    dataset.data.append(banana)\n",
    "    dataset.target.append('Банан')\n",
    "\n",
    "#Заполнение апельсинами\n",
    "for index in range(300):\n",
    "    orange = []\n",
    "    orange.append(random.choices([1, 0], weights=[0, 300])[0])   #Длинный\n",
    "    orange.append(random.choices([1, 0], weights=[150, 150])[0]) #Сладкий\n",
    "    orange.append(random.choices([1, 0], weights=[300, 0])[0])   #Желтый\n",
    "    dataset.data.append(orange)\n",
    "    dataset.target.append('Апельсин')\n",
    "    \n",
    "#Заполнение другими фруктами\n",
    "for index in range(200):\n",
    "    otherFruit = []\n",
    "    otherFruit.append(random.choices([1, 0], weights=[100, 100])[0]) #Длинный\n",
    "    otherFruit.append(random.choices([1, 0], weights=[150, 50])[0])  #Сладкий\n",
    "    otherFruit.append(random.choices([1, 0], weights=[50, 150])[0])  #Желтый\n",
    "    dataset.data.append(otherFruit)\n",
    "    dataset.target.append('Другой фрукт')\n",
    "\n",
    "#print(dataset)\n",
    "\n",
    "print(len(dataset.data))\n",
    "print(len(dataset.target))"
   ]
  },
  {
   "cell_type": "code",
   "execution_count": 276,
   "id": "a320bde8",
   "metadata": {},
   "outputs": [
    {
     "name": "stdout",
     "output_type": "stream",
     "text": [
      "['Банан' 'Апельсин' 'Другой фрукт']\n"
     ]
    }
   ],
   "source": [
    "naiveBayes = GaussianNB()\n",
    "naiveBayes.fit(dataset.data, dataset.target)\n",
    "\n",
    "predicted = naiveBayes.predict([[0.8, 0.5, 1], [0, 1, 1], [0, 0.5, 0.3]])\n",
    "\n",
    "print(predicted)"
   ]
  },
  {
   "cell_type": "code",
   "execution_count": null,
   "id": "c331d3ec",
   "metadata": {},
   "outputs": [],
   "source": []
  }
 ],
 "metadata": {
  "kernelspec": {
   "display_name": "Python 3 (ipykernel)",
   "language": "python",
   "name": "python3"
  },
  "language_info": {
   "codemirror_mode": {
    "name": "ipython",
    "version": 3
   },
   "file_extension": ".py",
   "mimetype": "text/x-python",
   "name": "python",
   "nbconvert_exporter": "python",
   "pygments_lexer": "ipython3",
   "version": "3.9.7"
  }
 },
 "nbformat": 4,
 "nbformat_minor": 5
}
